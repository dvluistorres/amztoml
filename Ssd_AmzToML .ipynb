{
 "cells": [
  {
   "cell_type": "code",
   "execution_count": 1,
   "id": "3818480f",
   "metadata": {},
   "outputs": [],
   "source": [
    "import requests\n",
    "from bs4 import BeautifulSoup as bs\n",
    "import random\n",
    "import time\n",
    "import pandas as pd\n",
    "import numpy as np\n",
    "import selenium\n",
    "from selenium import webdriver\n",
    "from selenium.webdriver.common.by import By\n",
    "from selenium.webdriver.common.keys import Keys\n",
    "import undetected_chromedriver as uc\n",
    "import os\n",
    "import re"
   ]
  },
  {
   "cell_type": "code",
   "execution_count": 2,
   "id": "75862f1c",
   "metadata": {},
   "outputs": [],
   "source": [
    "def get_trm():\n",
    "    response = requests.get('https://cdn.jsdelivr.net/gh/fawazahmed0/currency-api@1/latest/currencies/usd/cop.json')\n",
    "\n",
    "    if response.status_code == 200:\n",
    "        data = response.json()\n",
    "        return (data['cop']) # Imprime el valor de la tasa de cambio\n",
    "    else:\n",
    "        print(\"Ha ocurrido un error al hacer la solicitud.\")\n",
    "        return 5000\n",
    "        "
   ]
  },
  {
   "cell_type": "code",
   "execution_count": 8,
   "id": "a03f443b",
   "metadata": {
    "scrolled": true
   },
   "outputs": [],
   "source": [
    "##Leer la pagina de busqueda para los 16 forros mas buscados ordenados por pedidos y envio gratis si supera la marca\n",
    "browser = uc.Chrome()\n",
    "\n",
    "url = 'https://www.amazon.com/s?k=ssd&rh=p_n_is_free_shipping%3A10236242011&s=exact-aware-popularity-rank&dc&language=es&__mk_es_US=%C3%85M%C3%85%C5%BD%C3%95%C3%91&crid=2HNB4W2XNM2PC&qid=1681448085&rnid=10236241011&sprefix=ssd%2Caps%2C262&ref=sr_st_exact-aware-popularity-rank&ds=v1%3A3Tr9HRE8Yp%2BD%2BnwryWhRB8sFgsNLs9Gf0oAK6kTOXPk'\n",
    "url2 = 'https://www.amazon.com/-/es/s?k=ssd&rh=p_n_is_free_shipping%3A10236242011&s=exact-aware-popularity-rank&dc&page=2&language=es&__mk_es_US=%C3%85M%C3%85%C5%BD%C3%95%C3%91&crid=2HNB4W2XNM2PC&qid=1681448126&rnid=10236241011&sprefix=ssd%2Caps%2C262&ref=sr_pg_2'\n",
    "browser.get(url)\n",
    "\n",
    "browser.implicitly_wait(60)\n",
    "\n",
    "html = browser.page_source\n",
    "\n",
    "soup = bs(html,'lxml')\n",
    "\n",
    "browser.get(url2)\n",
    "\n",
    "browser.implicitly_wait(69)\n",
    "\n",
    "html2 = browser.page_source\n",
    "\n",
    "soup2 = bs(html,'lxml')\n",
    "\n",
    "#Cerrar pestaña y navegador\n",
    "#browser.close()\n",
    "#browser.quit()"
   ]
  },
  {
   "cell_type": "code",
   "execution_count": null,
   "id": "74829377",
   "metadata": {},
   "outputs": [],
   "source": [
    "#Crear array con las tarjetas de cada uno de los elementos (la tarjeta 0 es informacion)\n",
    "cards = soup.find_all('div', class_=\"a-section a-spacing-small a-spacing-top-small\")[1:]\n",
    "cards2 = soup2.find_all('div', class_=\"a-section a-spacing-small a-spacing-top-small\")[1:]\n",
    "cards = cards + cards2\n",
    "cards\n"
   ]
  },
  {
   "cell_type": "code",
   "execution_count": 9,
   "id": "b339fc31",
   "metadata": {},
   "outputs": [],
   "source": [
    "def extract_discount(text):\n",
    "    # Definir la expresión regular\n",
    "    regex = r\"Ahorra\\s+(\\d+)\\s*%\"\n",
    "\n",
    "    # Buscar el número usando la expresión regular\n",
    "    match = re.search(regex, text)\n",
    "\n",
    "    # Devolver el número como un entero si se encontró una coincidencia\n",
    "    if match:\n",
    "        return int(match.group(1))\n",
    "\n",
    "    # Devolver None si no se encontró una coincidencia\n",
    "    return None\n"
   ]
  },
  {
   "cell_type": "code",
   "execution_count": 12,
   "id": "3632c613",
   "metadata": {},
   "outputs": [],
   "source": [
    "#Definir funciones para extraer info primero de la card y luego del link de la card\n",
    "\n",
    "def get_name(card):\n",
    "    name = card.find('span', class_='a-size-medium a-color-base a-text-normal').text\n",
    "    return name\n",
    "def get_price(card):\n",
    "    price = soup.find('span',{'class':'a-price-whole'}).text + soup.find('span',{'class':'a-price-fraction'}).text\n",
    "    return float(price)*get_trm()\n",
    "def get_discount(card):\n",
    "    discount_text = soup.find('span',{'class':'a-size-base s-highlighted-text-padding aok-inline-block s-coupon-highlight-color'}).text\n",
    "    discount = extract_discount(discount_text)\n",
    "    return discount\n",
    "def get_link(card):\n",
    "    link = card.find('a', class_='a-link-normal s-underline-text s-underline-link-text s-link-style a-text-normal')\n",
    "    href = 'https://www.amazon.com.co' + link.get('href')\n",
    "    return href\n",
    "   "
   ]
  },
  {
   "attachments": {},
   "cell_type": "markdown",
   "id": "6efa752a",
   "metadata": {},
   "source": [
    "## Ahora a extraer de cada pagina"
   ]
  },
  {
   "cell_type": "code",
   "execution_count": 13,
   "id": "92edc83c",
   "metadata": {},
   "outputs": [
    {
     "data": {
      "text/plain": [
       "'https://www.amazon.com.co/-/es/PCIe-NVMe-interno-juegos-MZ-V8P2T0B/dp/B08RK2SR23/ref=sr_1_1?__mk_es_US=%C3%85M%C3%85%C5%BD%C3%95%C3%91&crid=2HNB4W2XNM2PC&keywords=ssd&qid=1681448276&refinements=p_n_is_free_shipping%3A10236242011&rnid=10236241011&sprefix=ssd%2Caps%2C262&sr=8-1'"
      ]
     },
     "execution_count": 13,
     "metadata": {},
     "output_type": "execute_result"
    }
   ],
   "source": [
    "ssd_test_link = get_link(cards[0])\n",
    "ssd_test_link"
   ]
  },
  {
   "cell_type": "code",
   "execution_count": 15,
   "id": "b583a709",
   "metadata": {},
   "outputs": [
    {
     "name": "stderr",
     "output_type": "stream",
     "text": [
      "/tmp/ipykernel_20533/3142230861.py:3: DeprecationWarning: executable_path has been deprecated, please pass in a Service object\n",
      "  driver = webdriver.Chrome(PATH)\n"
     ]
    },
    {
     "ename": "WebDriverException",
     "evalue": "Message: unknown error: failed to change window state to 'normal', current state is 'maximized'\n  (Session info: chrome=112.0.5615.49)\nStacktrace:\n#0 0x55ca09918603 <unknown>\n#1 0x55ca096698b6 <unknown>\n#2 0x55ca096481ff <unknown>\n#3 0x55ca09646650 <unknown>\n#4 0x55ca09646208 <unknown>\n#5 0x55ca096f1c06 <unknown>\n#6 0x55ca096c6402 <unknown>\n#7 0x55ca096de9a9 <unknown>\n#8 0x55ca096c61d3 <unknown>\n#9 0x55ca09698fb8 <unknown>\n#10 0x55ca0969a0ee <unknown>\n#11 0x55ca098df046 <unknown>\n#12 0x55ca098e23c3 <unknown>\n#13 0x55ca098e2c5a <unknown>\n#14 0x55ca098eab0e <unknown>\n#15 0x55ca098e33ec <unknown>\n#16 0x55ca098b9ea8 <unknown>\n#17 0x55ca09903318 <unknown>\n#18 0x55ca099034c3 <unknown>\n#19 0x55ca09910e34 <unknown>\n#20 0x7f6db12e3609 <unknown>\n",
     "output_type": "error",
     "traceback": [
      "\u001b[0;31m---------------------------------------------------------------------------\u001b[0m",
      "\u001b[0;31mWebDriverException\u001b[0m                        Traceback (most recent call last)",
      "Cell \u001b[0;32mIn[15], line 5\u001b[0m\n\u001b[1;32m      3\u001b[0m driver \u001b[39m=\u001b[39m webdriver\u001b[39m.\u001b[39mChrome(PATH)\n\u001b[1;32m      4\u001b[0m driver\u001b[39m.\u001b[39mget(ssd_test_link)\n\u001b[0;32m----> 5\u001b[0m driver\u001b[39m.\u001b[39;49mmaximize_window()\n",
      "File \u001b[0;32m~/.local/lib/python3.10/site-packages/selenium/webdriver/remote/webdriver.py:592\u001b[0m, in \u001b[0;36mWebDriver.maximize_window\u001b[0;34m(self)\u001b[0m\n\u001b[1;32m    590\u001b[0m \u001b[39m\u001b[39m\u001b[39m\"\"\"Maximizes the current window that webdriver is using.\"\"\"\u001b[39;00m\n\u001b[1;32m    591\u001b[0m command \u001b[39m=\u001b[39m Command\u001b[39m.\u001b[39mW3C_MAXIMIZE_WINDOW\n\u001b[0;32m--> 592\u001b[0m \u001b[39mself\u001b[39;49m\u001b[39m.\u001b[39;49mexecute(command, \u001b[39mNone\u001b[39;49;00m)\n",
      "File \u001b[0;32m~/.local/lib/python3.10/site-packages/selenium/webdriver/remote/webdriver.py:440\u001b[0m, in \u001b[0;36mWebDriver.execute\u001b[0;34m(self, driver_command, params)\u001b[0m\n\u001b[1;32m    438\u001b[0m response \u001b[39m=\u001b[39m \u001b[39mself\u001b[39m\u001b[39m.\u001b[39mcommand_executor\u001b[39m.\u001b[39mexecute(driver_command, params)\n\u001b[1;32m    439\u001b[0m \u001b[39mif\u001b[39;00m response:\n\u001b[0;32m--> 440\u001b[0m     \u001b[39mself\u001b[39;49m\u001b[39m.\u001b[39;49merror_handler\u001b[39m.\u001b[39;49mcheck_response(response)\n\u001b[1;32m    441\u001b[0m     response[\u001b[39m\"\u001b[39m\u001b[39mvalue\u001b[39m\u001b[39m\"\u001b[39m] \u001b[39m=\u001b[39m \u001b[39mself\u001b[39m\u001b[39m.\u001b[39m_unwrap_value(response\u001b[39m.\u001b[39mget(\u001b[39m\"\u001b[39m\u001b[39mvalue\u001b[39m\u001b[39m\"\u001b[39m, \u001b[39mNone\u001b[39;00m))\n\u001b[1;32m    442\u001b[0m     \u001b[39mreturn\u001b[39;00m response\n",
      "File \u001b[0;32m~/.local/lib/python3.10/site-packages/selenium/webdriver/remote/errorhandler.py:245\u001b[0m, in \u001b[0;36mErrorHandler.check_response\u001b[0;34m(self, response)\u001b[0m\n\u001b[1;32m    243\u001b[0m         alert_text \u001b[39m=\u001b[39m value[\u001b[39m\"\u001b[39m\u001b[39malert\u001b[39m\u001b[39m\"\u001b[39m]\u001b[39m.\u001b[39mget(\u001b[39m\"\u001b[39m\u001b[39mtext\u001b[39m\u001b[39m\"\u001b[39m)\n\u001b[1;32m    244\u001b[0m     \u001b[39mraise\u001b[39;00m exception_class(message, screen, stacktrace, alert_text)  \u001b[39m# type: ignore[call-arg]  # mypy is not smart enough here\u001b[39;00m\n\u001b[0;32m--> 245\u001b[0m \u001b[39mraise\u001b[39;00m exception_class(message, screen, stacktrace)\n",
      "\u001b[0;31mWebDriverException\u001b[0m: Message: unknown error: failed to change window state to 'normal', current state is 'maximized'\n  (Session info: chrome=112.0.5615.49)\nStacktrace:\n#0 0x55ca09918603 <unknown>\n#1 0x55ca096698b6 <unknown>\n#2 0x55ca096481ff <unknown>\n#3 0x55ca09646650 <unknown>\n#4 0x55ca09646208 <unknown>\n#5 0x55ca096f1c06 <unknown>\n#6 0x55ca096c6402 <unknown>\n#7 0x55ca096de9a9 <unknown>\n#8 0x55ca096c61d3 <unknown>\n#9 0x55ca09698fb8 <unknown>\n#10 0x55ca0969a0ee <unknown>\n#11 0x55ca098df046 <unknown>\n#12 0x55ca098e23c3 <unknown>\n#13 0x55ca098e2c5a <unknown>\n#14 0x55ca098eab0e <unknown>\n#15 0x55ca098e33ec <unknown>\n#16 0x55ca098b9ea8 <unknown>\n#17 0x55ca09903318 <unknown>\n#18 0x55ca099034c3 <unknown>\n#19 0x55ca09910e34 <unknown>\n#20 0x7f6db12e3609 <unknown>\n"
     ]
    }
   ],
   "source": [
    "# Abrir la pagina web\n",
    "PATH = '../usr/lib/chromium-browser/'\n",
    "driver = webdriver.Chrome(PATH)\n",
    "driver.get(ssd_test_link)\n",
    "driver.maximize_window()"
   ]
  },
  {
   "cell_type": "code",
   "execution_count": 20,
   "id": "21f945b2",
   "metadata": {},
   "outputs": [
    {
     "data": {
      "text/plain": [
       "<selenium.webdriver.remote.webelement.WebElement (session=\"8816584e7f7471eadf28b5c7c9f510a0\", element=\"658ad99f-5294-4ba7-9e83-b6cd8111c855\")>"
      ]
     },
     "execution_count": 20,
     "metadata": {},
     "output_type": "execute_result"
    }
   ],
   "source": [
    "size_data = driver.find_element(By.XPATH,'//*[@id=\"tp-inline-twister-dim-values-container\"]/ul')\n",
    "size_data"
   ]
  }
 ],
 "metadata": {
  "kernelspec": {
   "display_name": "Python 3 (ipykernel)",
   "language": "python",
   "name": "python3"
  },
  "language_info": {
   "codemirror_mode": {
    "name": "ipython",
    "version": 3
   },
   "file_extension": ".py",
   "mimetype": "text/x-python",
   "name": "python",
   "nbconvert_exporter": "python",
   "pygments_lexer": "ipython3",
   "version": "3.10.6"
  }
 },
 "nbformat": 4,
 "nbformat_minor": 5
}
