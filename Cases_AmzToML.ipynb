{
 "cells": [
  {
   "cell_type": "code",
   "execution_count": 90,
   "id": "3818480f",
   "metadata": {},
   "outputs": [],
   "source": [
    "import requests\n",
    "from bs4 import BeautifulSoup as bs\n",
    "import random\n",
    "import time\n",
    "import pandas as pd\n",
    "import numpy as np\n",
    "from selenium import webdriver\n",
    "from selenium.webdriver.common.by import By\n",
    "from selenium.webdriver.common.keys import Keys\n",
    "import undetected_chromedriver as uc\n",
    "import os\n",
    "import re"
   ]
  },
  {
   "cell_type": "code",
   "execution_count": 1,
   "id": "75862f1c",
   "metadata": {},
   "outputs": [],
   "source": [
    "def get_trm():\n",
    "    response = requests.get('https://cdn.jsdelivr.net/gh/fawazahmed0/currency-api@1/latest/currencies/usd/cop.json')\n",
    "\n",
    "    if response.status_code == 200:\n",
    "        data = response.json()\n",
    "        return (data['cop']) # Imprime el valor de la tasa de cambio\n",
    "    else:\n",
    "        print(\"Ha ocurrido un error al hacer la solicitud.\")\n",
    "        return 5000\n",
    "        "
   ]
  },
  {
   "cell_type": "code",
   "execution_count": 4,
   "id": "a03f443b",
   "metadata": {
    "scrolled": true
   },
   "outputs": [],
   "source": [
    "##Leer la pagina de busqueda para los 16 forros mas buscados ordenados por pedidos y envio gratis si supera la marca\n",
    "browser = uc.Chrome()\n",
    "\n",
    "url = 'https://www.amazon.com/s?k=phone+cases&rh=p_n_is_free_shipping%3A10236242011&s=exact-aware-popularity-rank&dc&language=es_US&ds=v1%3ASqcA0tcrOG1e%2Bc8XK79Se0V71IaypuNtYyHOuzdemHY&crid=W5XUJ7TR2HEQ&qid=1681159723&rnid=10236241011&sprefix=phone+case%2Caps%2C221&ref=sr_nr_p_n_is_free_shipping_1'\n",
    "url2 = 'https://www.amazon.com/-/es/s?k=phone+cases&rh=p_n_is_free_shipping%3A10236242011&s=exact-aware-popularity-rank&dc&page=2&language=es_US&crid=W5XUJ7TR2HEQ&qid=1681443982&rnid=10236241011&sprefix=phone+case%2Caps%2C221&ref=sr_pg_2'\n",
    "browser.get(url)\n",
    "\n",
    "browser.implicitly_wait(60)\n",
    "\n",
    "html = browser.page_source\n",
    "\n",
    "soup = bs(html,'lxml')\n",
    "\n",
    "browser.get(url2)\n",
    "\n",
    "browser.implicitly_wait(60)\n",
    "\n",
    "html2 = browser.page_source\n",
    "\n",
    "soup2 = bs(html,'lxml')\n",
    "\n",
    "#Cerrar pestaña y navegador\n",
    "#browser.close()\n",
    "#browser.quit()"
   ]
  },
  {
   "cell_type": "code",
   "execution_count": 8,
   "id": "74829377",
   "metadata": {},
   "outputs": [],
   "source": [
    "#Crear array con las tarjetas de cada uno de los elementos (la tarjeta 0 es informacion)\n",
    "cards = soup.find_all('div', class_=\"a-section a-spacing-small a-spacing-top-small\")[1:]\n",
    "cards2 = soup2.find_all('div', class_=\"a-section a-spacing-small a-spacing-top-small\")[1:]\n",
    "cards = cards + cards2\n"
   ]
  },
  {
   "cell_type": "code",
   "execution_count": 9,
   "id": "b339fc31",
   "metadata": {},
   "outputs": [],
   "source": [
    "def extract_discount(text):\n",
    "    # Definir la expresión regular\n",
    "    regex = r\"Ahorra\\s+(\\d+)\\s*%\"\n",
    "\n",
    "    # Buscar el número usando la expresión regular\n",
    "    match = re.search(regex, text)\n",
    "\n",
    "    # Devolver el número como un entero si se encontró una coincidencia\n",
    "    if match:\n",
    "        return int(match.group(1))\n",
    "\n",
    "    # Devolver None si no se encontró una coincidencia\n",
    "    return None\n"
   ]
  },
  {
   "cell_type": "code",
   "execution_count": 10,
   "id": "3632c613",
   "metadata": {},
   "outputs": [
    {
     "data": {
      "text/plain": [
       "75622.48036666999"
      ]
     },
     "execution_count": 10,
     "metadata": {},
     "output_type": "execute_result"
    }
   ],
   "source": [
    "#Definir funciones para extraer info primero de la card y luego del link de la card\n",
    "\n",
    "def get_name(card):\n",
    "    name = card.find('span', class_='a-size-medium a-color-base a-text-normal').text\n",
    "    return name\n",
    "def get_price(card):\n",
    "    price = soup.find('span',{'class':'a-price-whole'}).text + soup.find('span',{'class':'a-price-fraction'}).text\n",
    "    return float(price)*get_trm()\n",
    "def get_discount(card):\n",
    "    discount_text = soup.find('span',{'class':'a-size-base s-highlighted-text-padding aok-inline-block s-coupon-highlight-color'}).text\n",
    "    discount = extract_discount(discount_text)\n",
    "    return discount\n",
    "def get_link(card):\n",
    "    link = card.find('a', class_='a-link-normal s-underline-text s-underline-link-text s-link-style a-text-normal')\n",
    "    href = 'https://www.amazon.com.co' + link.get('href')\n",
    "    return href\n",
    "def get_link_soup(link):\n",
    "    browser.get(link)\n",
    "    browser.implicitly_wait(random.randint(30, 60))\n",
    "    html = browser.page_source\n",
    "    soup = bs(html,'lxml')\n",
    "    return soup\n",
    "    "
   ]
  },
  {
   "cell_type": "code",
   "execution_count": 11,
   "id": "05516da1",
   "metadata": {},
   "outputs": [],
   "source": [
    "def get_images(link_soup):\n",
    "    lista = link_soup.find('ul', class_='a-unordered-list a-nostyle a-button-list a-vertical a-spacing-top-micro regularAltImageViewLayout')\n",
    "    imagenes = list(map(lambda x: x.get('src'), lista.find_all('img')))\n",
    "    cantidad = len(imagenes)-2\n",
    "    script = soup.find_all(\"script\", {\"type\": \"text/javascript\"})\n",
    "    print(script)\n",
    "\n",
    "    # Extraemos el contenido de la etiqueta script como una cadena de texto\n",
    "    data_str = list(filter(lambda x: 'hiRes' in x.string.strip() , script))\n",
    "    print(data_str)\n",
    "    \n",
    "def get_table(link_soup):\n",
    "    tabla = link_soup.find('table',class_ = 'a-normal a-spacing-micro')\n",
    "    tabla_dict = {}\n",
    "    filas = tabla.find_all('tr')\n",
    "    for fila in filas:\n",
    "        celdas = fila.find_all('td')\n",
    "        clave = celdas[0].text.strip()\n",
    "        valor = celdas[1].text.strip()\n",
    "        tabla_dict[clave] = valor\n",
    "    return tabla_dict\n",
    "    \n",
    "    \n",
    "#Creo que mercadolibre deja subir la descripcion como .md, por eso lo hago asi\n",
    "def get_description(link_soup):\n",
    "    description_soup = link_soup.find('div',{'id':'feature-bullets'})\n",
    "    list_items = description_soup.find('ul').find_all('li')\n",
    "    content = '\\n'.join([f'* {li.text.strip()}' for li in list_items])\n",
    "    \n",
    "    # Obtener el título del artículo\n",
    "    title = description_soup.find('h1').text.strip()\n",
    "    \n",
    "    # Combinar el título y el contenido y agregar separadores\n",
    "    result = f'# {title}\\n\\n{content}\\n\\n---\\n'\n",
    "    \n",
    "    return result\n",
    "    \n",
    "\n"
   ]
  },
  {
   "cell_type": "markdown",
   "id": "a88db01a",
   "metadata": {},
   "source": [
    "## Codigo para obtener imagenes de la pagina de cada case"
   ]
  },
  {
   "cell_type": "code",
   "execution_count": 15,
   "id": "1a6687bc",
   "metadata": {},
   "outputs": [],
   "source": [
    "#solo para la primera case, obtener soup\n",
    "test = get_link_soup(get_link(cards[1]))"
   ]
  },
  {
   "cell_type": "code",
   "execution_count": null,
   "id": "4f53272a",
   "metadata": {},
   "outputs": [],
   "source": [
    "script = test.find('div', class_=\"a-section imageBlockRearch\").find_next_sibling('script')\n",
    "\n",
    "import json\n",
    "\n",
    "colorImages =(script.string)[script.string.index('colorImages')+14:script.string.index('}]}')+3].replace('null', 'None').replace(\"'\", '\"')\n",
    "\n",
    "print(colorImages)\n",
    "\n"
   ]
  },
  {
   "cell_type": "code",
   "execution_count": 108,
   "id": "924e0cf7",
   "metadata": {},
   "outputs": [
    {
     "data": {
      "text/plain": [
       "['https://m.media-amazon.com/images/I/71MIxZaKqgL._AC_SL1500_.jpg',\n",
       " 'https://m.media-amazon.com/images/I/61Zv9iseeHL._AC_SL1500_.jpg',\n",
       " 'https://m.media-amazon.com/images/I/71c8S3hqaUL._AC_SL1500_.jpg',\n",
       " 'https://m.media-amazon.com/images/I/71h7ScgrLUL._AC_SL1500_.jpg',\n",
       " 'https://m.media-amazon.com/images/I/71afmlGrdtL._AC_SL1500_.jpg',\n",
       " 'https://m.media-amazon.com/images/I/61mm8+l95yL._AC_SL1500_.jpg']"
      ]
     },
     "execution_count": 108,
     "metadata": {},
     "output_type": "execute_result"
    }
   ],
   "source": [
    "#Suponiendo que funciona diccio = dict(colorImages)\n",
    "diccio = { 'initial': [{\"hiRes\":\"https://m.media-amazon.com/images/I/71MIxZaKqgL._AC_SL1500_.jpg\",\"thumb\":\"https://m.media-amazon.com/images/I/51aELp0VZbL._AC_SR38,50_.jpg\",\"large\":\"https://m.media-amazon.com/images/I/51aELp0VZbL._AC_.jpg\",\"main\":{\"https://m.media-amazon.com/images/I/71MIxZaKqgL._AC_SX342_.jpg\":[342,342],\"https://m.media-amazon.com/images/I/71MIxZaKqgL._AC_SX385_.jpg\":[385,385],\"https://m.media-amazon.com/images/I/71MIxZaKqgL._AC_SX425_.jpg\":[425,425],\"https://m.media-amazon.com/images/I/71MIxZaKqgL._AC_SX466_.jpg\":[466,466],\"https://m.media-amazon.com/images/I/71MIxZaKqgL._AC_SX522_.jpg\":[522,522],\"https://m.media-amazon.com/images/I/71MIxZaKqgL._AC_SX569_.jpg\":[569,569],\"https://m.media-amazon.com/images/I/71MIxZaKqgL._AC_SX679_.jpg\":[679,679]},\"variant\":\"MAIN\",\"lowRes\":None,\"shoppableScene\":None},{\"hiRes\":\"https://m.media-amazon.com/images/I/61Zv9iseeHL._AC_SL1500_.jpg\",\"thumb\":\"https://m.media-amazon.com/images/I/410fqzljLJL._AC_SR38,50_.jpg\",\"large\":\"https://m.media-amazon.com/images/I/410fqzljLJL._AC_.jpg\",\"main\":{\"https://m.media-amazon.com/images/I/61Zv9iseeHL._AC_SX342_.jpg\":[428,342],\"https://m.media-amazon.com/images/I/61Zv9iseeHL._AC_SX385_.jpg\":[481,385],\"https://m.media-amazon.com/images/I/61Zv9iseeHL._AC_SX425_.jpg\":[531,425],\"https://m.media-amazon.com/images/I/61Zv9iseeHL._AC_SX466_.jpg\":[583,466],\"https://m.media-amazon.com/images/I/61Zv9iseeHL._AC_SX522_.jpg\":[653,522],\"https://m.media-amazon.com/images/I/61Zv9iseeHL._AC_SX569_.jpg\":[711,569],\"https://m.media-amazon.com/images/I/61Zv9iseeHL._AC_SX679_.jpg\":[849,679]},\"variant\":\"PT01\",\"lowRes\":None,\"shoppableScene\":None},{\"hiRes\":\"https://m.media-amazon.com/images/I/71c8S3hqaUL._AC_SL1500_.jpg\",\"thumb\":\"https://m.media-amazon.com/images/I/41e9GCwYXFL._AC_SR38,50_.jpg\",\"large\":\"https://m.media-amazon.com/images/I/41e9GCwYXFL._AC_.jpg\",\"main\":{\"https://m.media-amazon.com/images/I/71c8S3hqaUL._AC_SX342_.jpg\":[428,342],\"https://m.media-amazon.com/images/I/71c8S3hqaUL._AC_SX385_.jpg\":[481,385],\"https://m.media-amazon.com/images/I/71c8S3hqaUL._AC_SX425_.jpg\":[531,425],\"https://m.media-amazon.com/images/I/71c8S3hqaUL._AC_SX466_.jpg\":[583,466],\"https://m.media-amazon.com/images/I/71c8S3hqaUL._AC_SX522_.jpg\":[653,522],\"https://m.media-amazon.com/images/I/71c8S3hqaUL._AC_SX569_.jpg\":[711,569],\"https://m.media-amazon.com/images/I/71c8S3hqaUL._AC_SX679_.jpg\":[849,679]},\"variant\":\"PT02\",\"lowRes\":None,\"shoppableScene\":None},{\"hiRes\":\"https://m.media-amazon.com/images/I/71h7ScgrLUL._AC_SL1500_.jpg\",\"thumb\":\"https://m.media-amazon.com/images/I/51qgJtei4SL._AC_SR38,50_.jpg\",\"large\":\"https://m.media-amazon.com/images/I/51qgJtei4SL._AC_.jpg\",\"main\":{\"https://m.media-amazon.com/images/I/71h7ScgrLUL._AC_SX342_.jpg\":[342,342],\"https://m.media-amazon.com/images/I/71h7ScgrLUL._AC_SX385_.jpg\":[385,385],\"https://m.media-amazon.com/images/I/71h7ScgrLUL._AC_SX425_.jpg\":[425,425],\"https://m.media-amazon.com/images/I/71h7ScgrLUL._AC_SX466_.jpg\":[466,466],\"https://m.media-amazon.com/images/I/71h7ScgrLUL._AC_SX522_.jpg\":[522,522],\"https://m.media-amazon.com/images/I/71h7ScgrLUL._AC_SX569_.jpg\":[569,569],\"https://m.media-amazon.com/images/I/71h7ScgrLUL._AC_SX679_.jpg\":[679,679]},\"variant\":\"PT03\",\"lowRes\":None,\"shoppableScene\":None},{\"hiRes\":\"https://m.media-amazon.com/images/I/71afmlGrdtL._AC_SL1500_.jpg\",\"thumb\":\"https://m.media-amazon.com/images/I/51vc-sjVykL._AC_SR38,50_.jpg\",\"large\":\"https://m.media-amazon.com/images/I/51vc-sjVykL._AC_.jpg\",\"main\":{\"https://m.media-amazon.com/images/I/71afmlGrdtL._AC_SX342_.jpg\":[342,342],\"https://m.media-amazon.com/images/I/71afmlGrdtL._AC_SX385_.jpg\":[385,385],\"https://m.media-amazon.com/images/I/71afmlGrdtL._AC_SX425_.jpg\":[425,425],\"https://m.media-amazon.com/images/I/71afmlGrdtL._AC_SX466_.jpg\":[466,466],\"https://m.media-amazon.com/images/I/71afmlGrdtL._AC_SX522_.jpg\":[522,522],\"https://m.media-amazon.com/images/I/71afmlGrdtL._AC_SX569_.jpg\":[569,569],\"https://m.media-amazon.com/images/I/71afmlGrdtL._AC_SX679_.jpg\":[679,679]},\"variant\":\"PT04\",\"lowRes\":None,\"shoppableScene\":None},{\"hiRes\":\"https://m.media-amazon.com/images/I/61mm8+l95yL._AC_SL1500_.jpg\",\"thumb\":\"https://m.media-amazon.com/images/I/41MDJSouyWL._AC_SR38,50_.jpg\",\"large\":\"https://m.media-amazon.com/images/I/41MDJSouyWL._AC_.jpg\",\"main\":{\"https://m.media-amazon.com/images/I/61mm8+l95yL._AC_SX342_.jpg\":[342,342],\"https://m.media-amazon.com/images/I/61mm8+l95yL._AC_SX385_.jpg\":[385,385],\"https://m.media-amazon.com/images/I/61mm8+l95yL._AC_SX425_.jpg\":[425,425],\"https://m.media-amazon.com/images/I/61mm8+l95yL._AC_SX466_.jpg\":[466,466],\"https://m.media-amazon.com/images/I/61mm8+l95yL._AC_SX522_.jpg\":[522,522],\"https://m.media-amazon.com/images/I/61mm8+l95yL._AC_SX569_.jpg\":[569,569],\"https://m.media-amazon.com/images/I/61mm8+l95yL._AC_SX679_.jpg\":[679,679]},\"variant\":\"PT05\",\"lowRes\":None,\"shoppableScene\":None}]}\n",
    "imagenes = diccio['initial']\n",
    "imagenes_2 = [x['hiRes'] for x in imagenes]\n",
    "imagenes_2"
   ]
  },
  {
   "cell_type": "code",
   "execution_count": null,
   "id": "4fe8fc7e",
   "metadata": {
    "scrolled": false
   },
   "outputs": [],
   "source": [
    "cases_array = []\n",
    "i = 0\n",
    "cantidad = len(cards)\n",
    "browser = uc.Chrome()\n",
    "for card in cards:\n",
    "    i = i + 1\n",
    "    print(str(i/cantidad*100) + '%')\n",
    "    case_info = {}\n",
    "    \n",
    "    sopa = get_link_soup(get_link(cards[0]))\n",
    "    case_info['name'] = get_name(card)\n",
    "    case_info['price'] = get_price(card)\n",
    "    case_info['discount'] = get_discount(card)\n",
    "    case_info['link'] = get_link(card)    \n",
    "    \n",
    "    link_soup = get_link_soup(case_info['link'])\n",
    "    \n",
    "    #case_info['images'] = get_images(link_soup)\n",
    "    case_info['table'] = get_table(link_soup)\n",
    "    case_info['description'] = get_description(link_soup)\n",
    "    \n",
    "    cases_array.append(case_info)\n",
    "    \n",
    "    \n",
    "#Cerrar pestaña y navegador\n",
    "browser.close()\n",
    "browser.quit()\n",
    "\n",
    "cases_array\n",
    "    "
   ]
  },
  {
   "cell_type": "code",
   "execution_count": null,
   "id": "9fa7d4dc",
   "metadata": {},
   "outputs": [],
   "source": [
    "list(map(lambda x: x['name'], cases_array))"
   ]
  }
 ],
 "metadata": {
  "kernelspec": {
   "display_name": "Python 3 (ipykernel)",
   "language": "python",
   "name": "python3"
  },
  "language_info": {
   "codemirror_mode": {
    "name": "ipython",
    "version": 3
   },
   "file_extension": ".py",
   "mimetype": "text/x-python",
   "name": "python",
   "nbconvert_exporter": "python",
   "pygments_lexer": "ipython3",
   "version": "3.10.6"
  }
 },
 "nbformat": 4,
 "nbformat_minor": 5
}
